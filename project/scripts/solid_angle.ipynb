{
 "cells": [
  {
   "cell_type": "code",
   "execution_count": 1,
   "id": "f1e7647e",
   "metadata": {},
   "outputs": [],
   "source": [
    "import math\n",
    "\n",
    "def solid_angle_rectangle(a, b, h):\n",
    "\n",
    "    numerator = a * b\n",
    "    denominator = 2 * h * math.sqrt(4*h**2 + a**2 + b**2)\n",
    "    omega = 4 * math.atan(numerator / denominator)\n",
    "    return omega\n",
    "\n"
   ]
  },
  {
   "cell_type": "code",
   "execution_count": 16,
   "id": "76f76f45",
   "metadata": {},
   "outputs": [
    {
     "name": "stdout",
     "output_type": "stream",
     "text": [
      "Proporção da esfera: 0.302489\n"
     ]
    }
   ],
   "source": [
    "\n",
    "# dimensoes do paralelepipedo\n",
    "X = 60.0\n",
    "Y = 13/2\n",
    "Z = 13.0\n",
    "\n",
    "# faces e distâncias do centro\n",
    "faces = [(X, Y, Z/2),(Z, Y, X/2)]\n",
    "\n",
    "# cada face aparece duas vezes\n",
    "total_solid_angle = 0\n",
    "for a, b, h in faces:\n",
    "    omega = solid_angle_rectangle(a, b, h)\n",
    "    total_solid_angle += 2 * omega\n",
    "\n",
    "print(f\"Proporção da esfera: {total_solid_angle/(4*math.pi):.6f}\")\n"
   ]
  }
 ],
 "metadata": {
  "kernelspec": {
   "display_name": "Python 3",
   "language": "python",
   "name": "python3"
  },
  "language_info": {
   "codemirror_mode": {
    "name": "ipython",
    "version": 3
   },
   "file_extension": ".py",
   "mimetype": "text/x-python",
   "name": "python",
   "nbconvert_exporter": "python",
   "pygments_lexer": "ipython3",
   "version": "3.12.3"
  }
 },
 "nbformat": 4,
 "nbformat_minor": 5
}
